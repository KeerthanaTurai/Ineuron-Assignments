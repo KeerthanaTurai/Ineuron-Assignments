{
  "nbformat": 4,
  "nbformat_minor": 0,
  "metadata": {
    "colab": {
      "name": "INeuron Assignment 5.ipynb",
      "provenance": []
    },
    "kernelspec": {
      "name": "python3",
      "display_name": "Python 3"
    },
    "language_info": {
      "name": "python"
    }
  },
  "cells": [
    {
      "cell_type": "markdown",
      "metadata": {
        "id": "xVc5TwxOMZMb"
      },
      "source": [
        "Write a function to compute 5/0 and use try/except to catch the exceptions"
      ]
    },
    {
      "cell_type": "code",
      "metadata": {
        "colab": {
          "base_uri": "https://localhost:8080/"
        },
        "id": "L98lU0M0MhV-",
        "outputId": "2d90c009-0b5d-4f9a-9db6-a8ba88abf043"
      },
      "source": [
        "try:\n",
        "  a=int(input(\"Enter divident: \"))\n",
        "  b=int(input(\"Enter Divisor: \"))\n",
        "  c=a/b\n",
        "  print(\"Result =\",c)\n",
        "except:\n",
        "  print(\"Invalid input\")"
      ],
      "execution_count": 1,
      "outputs": [
        {
          "output_type": "stream",
          "text": [
            "Enter divident: 5\n",
            "Enter Divisor: 0\n",
            "Invalid input\n"
          ],
          "name": "stdout"
        }
      ]
    },
    {
      "cell_type": "markdown",
      "metadata": {
        "id": "_qkZMsPlNEZ_"
      },
      "source": [
        "Implement a Python program to generate all sentences where subject is in\n",
        "[\"Americans\", \"Indians\"] and verb is in [\"Play\", \"watch\"] and the object is in\n",
        "[\"Baseball\",\"cricket\"].\n",
        "\n",
        "Hint: Subject,Verb and Object should be declared in the program as shown below.\n",
        "\n",
        "subjects=[\"Americans \",\"Indians\"]\n",
        "\n",
        "verbs=[\"play\",\"watch\"]\n",
        "\n",
        "objects=[\"Baseball\",\"Cricket\"]\n",
        "\n",
        "Output should come as below:\n",
        "\n",
        "Americans play Baseball.\n",
        "\n",
        "Americans play Cricket.\n",
        "\n",
        "Americans watch Baseball.\n",
        "\n",
        "Americans watch Cricket.\n",
        "\n",
        "Indians play Baseball.\n",
        "\n",
        "Indians play Cricket.\n",
        "\n",
        "Indians watch Baseball.\n",
        "\n",
        "Indians watch Cricket."
      ]
    },
    {
      "cell_type": "code",
      "metadata": {
        "colab": {
          "base_uri": "https://localhost:8080/"
        },
        "id": "gkaPija1NTkY",
        "outputId": "ce2fb6fa-d29c-41b5-fbbe-eb53a08ffb34"
      },
      "source": [
        "subjects=[\"Americans\",\"Indians\"]\n",
        "verbs=[\"play\",\"watch\"]\n",
        "objects=[\"Baseball\",\"Cricket\"]\n",
        "for i in subjects:\n",
        "  for j in verbs:\n",
        "    for k in objects:\n",
        "      print(i,j,k)"
      ],
      "execution_count": 25,
      "outputs": [
        {
          "output_type": "stream",
          "text": [
            "Americans play Baseball\n",
            "Americans play Cricket\n",
            "Americans watch Baseball\n",
            "Americans watch Cricket\n",
            "Indians play Baseball\n",
            "Indians play Cricket\n",
            "Indians watch Baseball\n",
            "Indians watch Cricket\n"
          ],
          "name": "stdout"
        }
      ]
    }
  ]
}