{
 "cells": [
  {
   "cell_type": "markdown",
   "metadata": {},
   "source": [
    "1.1 Write a Python Program (with class concepts) to find the area of the triangle using below formula.\n",
    "area=(s*(s-a)*(s-b)*(s-c))**0.5\n",
    "Function to take the length of the sides of triangle from user should be defined in the parent class and function to calculate the area should be defined in subclass"
   ]
  },
  {
   "cell_type": "code",
   "execution_count": 10,
   "metadata": {},
   "outputs": [
    {
     "name": "stdout",
     "output_type": "stream",
     "text": [
      "Enter sides of triangle: 4 5 6\n",
      "Area: 9.921567416492215\n"
     ]
    }
   ],
   "source": [
    "class Base():\n",
    "    def __init__(self):\n",
    "        a,b,c=map(int,input(\"Enter sides of triangle: \").split())\n",
    "        self.a=a\n",
    "        self.b=b\n",
    "        self.c=c\n",
    "class Tri(Base):\n",
    "    def __init__(self):\n",
    "        super().__init__()\n",
    "        self.ar=0\n",
    "    def area(self):\n",
    "        s=(self.a + self.b + self.c)/2\n",
    "        self.ar=(s*(s - self.a)*(s - self.b)*(s - self.c))**0.5\n",
    "        print(\"Area:\",self.ar)\n",
    "        \n",
    "t=Tri()\n",
    "t.area()"
   ]
  },
  {
   "cell_type": "markdown",
   "metadata": {},
   "source": [
    "1.2 Write a function filter_long_words() that takes a list of words and an integer n and returns the list of words that are longer than n."
   ]
  },
  {
   "cell_type": "code",
   "execution_count": 12,
   "metadata": {},
   "outputs": [
    {
     "name": "stdout",
     "output_type": "stream",
     "text": [
      "Enter list of words:\n",
      "keerthana jiriya naruto keer adi\n",
      "Enter length: 5\n",
      "['keerthana', 'jiriya', 'naruto']\n"
     ]
    }
   ],
   "source": [
    "def filter_long_words(sl,n):\n",
    "    for i in sl:\n",
    "        if len(i)>n:\n",
    "            yield i\n",
    "    return\n",
    "\n",
    "sl=list(map(str,input(\"Enter list of words:\\n\").split()))\n",
    "n=int(input(\"Enter length: \"))\n",
    "o=filter_long_words(sl,n)\n",
    "print(list(o))"
   ]
  },
  {
   "cell_type": "markdown",
   "metadata": {},
   "source": [
    "2.1 Write a Python program using function concept that maps list of words into a list of integers representing the lenggths of the corresponding words."
   ]
  },
  {
   "cell_type": "code",
   "execution_count": 13,
   "metadata": {},
   "outputs": [
    {
     "name": "stdout",
     "output_type": "stream",
     "text": [
      "ab cde efghij\n",
      "[2, 3, 6]\n"
     ]
    }
   ],
   "source": [
    "l=list(map(str,input().split()))\n",
    "o=[len(i) for i in l]\n",
    "print(o)"
   ]
  },
  {
   "cell_type": "markdown",
   "metadata": {},
   "source": [
    "2.2 Write a Python function which takes a character (i.e. a string of length 1) and returns True if it is a vowel, False otherwise."
   ]
  },
  {
   "cell_type": "code",
   "execution_count": 15,
   "metadata": {},
   "outputs": [
    {
     "name": "stdout",
     "output_type": "stream",
     "text": [
      "Enter Character: e\n",
      "Is vowel: True\n"
     ]
    }
   ],
   "source": [
    "def vowel(c):\n",
    "    if c.lower() in ['a','e','i','o','u']:\n",
    "        return True\n",
    "    else:\n",
    "        return False\n",
    "    \n",
    "c=input(\"Enter Character: \")\n",
    "print(\"Is vowel:\",vowel(c))"
   ]
  },
  {
   "cell_type": "code",
   "execution_count": null,
   "metadata": {},
   "outputs": [],
   "source": []
  }
 ],
 "metadata": {
  "kernelspec": {
   "display_name": "Python 3",
   "language": "python",
   "name": "python3"
  },
  "language_info": {
   "codemirror_mode": {
    "name": "ipython",
    "version": 3
   },
   "file_extension": ".py",
   "mimetype": "text/x-python",
   "name": "python",
   "nbconvert_exporter": "python",
   "pygments_lexer": "ipython3",
   "version": "3.7.1"
  }
 },
 "nbformat": 4,
 "nbformat_minor": 2
}
