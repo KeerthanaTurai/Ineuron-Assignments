{
 "cells": [
  {
   "cell_type": "markdown",
   "metadata": {},
   "source": [
    "1.1 Write a Python Program to implement your own myreduce() function which works exactly like Python's built-in function reduce()"
   ]
  },
  {
   "cell_type": "code",
   "execution_count": 6,
   "metadata": {},
   "outputs": [
    {
     "name": "stdout",
     "output_type": "stream",
     "text": [
      "Enter list of numbers: 1 2 5 4 3\n",
      "5\n"
     ]
    }
   ],
   "source": [
    "def myreduce(maxno,l):\n",
    "    x=l[0]\n",
    "    for i in l:\n",
    "        x=maxno(x,i)\n",
    "    return x\n",
    "\n",
    "def maxno(a,b):\n",
    "    return a if (a>b) else b\n",
    "\n",
    "l1=list(map(int,input(\"Enter list of numbers: \").split()))\n",
    "x=myreduce(maxno,l1)\n",
    "print(x)"
   ]
  },
  {
   "cell_type": "markdown",
   "metadata": {},
   "source": [
    "1.2 Write a Python program to implement your own myfilter() function which works exactly like Python's built-in function filter()"
   ]
  },
  {
   "cell_type": "code",
   "execution_count": 8,
   "metadata": {},
   "outputs": [
    {
     "name": "stdout",
     "output_type": "stream",
     "text": [
      "[1, 3, 5, 7, 9]\n"
     ]
    }
   ],
   "source": [
    "def myfilter(odd,l):\n",
    "    r=[]\n",
    "    for i in l:\n",
    "        b=odd(i)\n",
    "        if b:\n",
    "            r.append(i)\n",
    "    return r\n",
    "\n",
    "def odd(x):\n",
    "    return True if (x%2!=0) else False\n",
    "\n",
    "x=myfilter(odd,[1,2,3,4,5,6,7,8,9])\n",
    "print(x)"
   ]
  },
  {
   "cell_type": "markdown",
   "metadata": {},
   "source": [
    "2. Implement list comprehensions to produce the following lists.\n",
    "Write list comprehensions to produce the following lists\n",
    "['x','xx','xxx','xxxx','y','yy','yyy','yyyy','z','zz','zzz','zzzz']\n",
    "['x','y','z','xx','yy','zz','xxx','yyy','zzz','xxxx','yyyy','zzzz']\n",
    "[[2],[3],[4],[3],[4],[5],[4],[5],[6]]\n",
    "[[2,3,4,5],[3,4,5,6],[4,5,6,7],[5,6,7,8]]\n",
    "[(1,1),(2,1),(3,1),(1,2),(2,2),(3,2),(1,3),(2,3),(3,3)]"
   ]
  },
  {
   "cell_type": "code",
   "execution_count": 10,
   "metadata": {},
   "outputs": [
    {
     "name": "stdout",
     "output_type": "stream",
     "text": [
      "['x', 'xx', 'xxx', 'xxxx', 'y', 'yy', 'yyy', 'yyyy', 'z', 'zz', 'zzz', 'zzzz']\n"
     ]
    }
   ],
   "source": [
    "l1=[i*j for i in 'xyz' for j in range(1,5)]\n",
    "print(l1)"
   ]
  },
  {
   "cell_type": "code",
   "execution_count": 12,
   "metadata": {},
   "outputs": [
    {
     "name": "stdout",
     "output_type": "stream",
     "text": [
      "['x', 'y', 'z', 'xx', 'yy', 'zz', 'xxx', 'yyy', 'zzz', 'xxxx', 'yyyy', 'zzzz']\n"
     ]
    }
   ],
   "source": [
    "l2=[i*j for i in range(1,5) for j in 'xyz']\n",
    "print(l2)"
   ]
  },
  {
   "cell_type": "code",
   "execution_count": 14,
   "metadata": {},
   "outputs": [
    {
     "name": "stdout",
     "output_type": "stream",
     "text": [
      "[[2], [3], [4], [3], [4], [5], [4], [5], [6]]\n"
     ]
    }
   ],
   "source": [
    "l3=[[i+j] for i in range(2,5) for j in range (0,3)]\n",
    "print(l3)"
   ]
  },
  {
   "cell_type": "code",
   "execution_count": 15,
   "metadata": {},
   "outputs": [
    {
     "name": "stdout",
     "output_type": "stream",
     "text": [
      "[[2, 3, 4, 5], [3, 4, 5, 6], [4, 5, 6, 7], [5, 6, 7, 8]]\n"
     ]
    }
   ],
   "source": [
    "l4=[[i+j for j in range(4)] for i in range(2,6)]\n",
    "print(l4)"
   ]
  },
  {
   "cell_type": "code",
   "execution_count": 17,
   "metadata": {},
   "outputs": [
    {
     "name": "stdout",
     "output_type": "stream",
     "text": [
      "[(1, 1), (2, 1), (3, 1), (1, 2), (2, 2), (3, 2), (1, 3), (2, 3), (3, 3)]\n"
     ]
    }
   ],
   "source": [
    "l5=[(j,i) for i in range(1,4) for j in range(1,4)]\n",
    "print(l5)"
   ]
  },
  {
   "cell_type": "code",
   "execution_count": null,
   "metadata": {},
   "outputs": [],
   "source": []
  }
 ],
 "metadata": {
  "kernelspec": {
   "display_name": "Python 3",
   "language": "python",
   "name": "python3"
  },
  "language_info": {
   "codemirror_mode": {
    "name": "ipython",
    "version": 3
   },
   "file_extension": ".py",
   "mimetype": "text/x-python",
   "name": "python",
   "nbconvert_exporter": "python",
   "pygments_lexer": "ipython3",
   "version": "3.7.1"
  }
 },
 "nbformat": 4,
 "nbformat_minor": 2
}
